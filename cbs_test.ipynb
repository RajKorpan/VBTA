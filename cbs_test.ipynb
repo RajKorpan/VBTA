{
 "cells": [
  {
   "cell_type": "code",
   "execution_count": 1,
   "metadata": {},
   "outputs": [],
   "source": [
    "from CBS import cbs, load_map\n",
    "import random"
   ]
  },
  {
   "cell_type": "code",
   "execution_count": 2,
   "metadata": {},
   "outputs": [],
   "source": [
    "def get_random_free_positions(grid, num_positions):\n",
    "    \"\"\"\n",
    "    Parameters\n",
    "    - grid: 2D list of 0/1 cells representing the map free/obstacles\n",
    "    - num_positions: number of distinct positions to sample\n",
    "\n",
    "    Returns: a list of (row, col) positions of length num_positions,\n",
    "            each chosen randomly from free cells with value = 0\n",
    "    \"\"\"\n",
    "    free_cells = []\n",
    "    # iterate thru entire grid and find the free cells, make a list of them for choosing from\n",
    "    for r in range(len(grid)):\n",
    "        for c in range(len(grid[0])):\n",
    "            if grid[r][c] == 0:\n",
    "                free_cells.append((r, c))\n",
    "\n",
    "    # Make sure there are more free cells than agents \n",
    "    if len(free_cells) < num_positions:\n",
    "        raise ValueError(\"Not enough free cells to pick a distinct one for each agent, please use less agents for this map.\")\n",
    "    \n",
    "    # randomly sample without replacement\n",
    "    chosen = random.sample(free_cells, num_positions)\n",
    "    return chosen"
   ]
  },
  {
   "cell_type": "code",
   "execution_count": 3,
   "metadata": {},
   "outputs": [],
   "source": [
    "def main():\n",
    "    # Load the map\n",
    "    map_file = r\"C:\\Users\\owner\\Documents\\PhD\\TierLab\\VBTA\\MAPF_benchmark_maps\\den001d.map\"\n",
    "    grid = load_map(map_file)\n",
    "    print(f\"Loaded map from {map_file} with dimensions {len(grid)} x {len(grid[0])}\")\n",
    "\n",
    "    # Pick random free locations for any number of agents (start and goal)\n",
    "    num_agents = 3\n",
    "    start_positions = get_random_free_positions(grid, num_agents)\n",
    "    goal_positions = get_random_free_positions(grid, num_agents)\n",
    "    # print(f\"TYPE OF START POSITIONS: {type(start_positions)}\")\n",
    "    # print(f\"TYPE OF GOAL POSITIONS: {type(goal_positions)}\")\n",
    "    # print(f\"TYPE OF GRID: {type(grid)}\")\n",
    "        \n",
    "\n",
    "    print(f\"Start positions: {start_positions}\")\n",
    "    print(f\"Goal positions: {goal_positions}\")\n",
    "\n",
    "    # Run CBS on the problem\n",
    "    solution = cbs(start_positions, goal_positions, grid)\n",
    "\n",
    "    if solution is None:\n",
    "        print(\"No solution found.\")\n",
    "    else:\n",
    "        print(\"Solution found:\")\n",
    "        for agent_id, path in solution.items():\n",
    "            print(f\"Agent {agent_id}: {path}\")\n",
    "            \n",
    "    return solution"
   ]
  },
  {
   "cell_type": "code",
   "execution_count": 4,
   "metadata": {},
   "outputs": [
    {
     "name": "stdout",
     "output_type": "stream",
     "text": [
      "Loaded map from C:\\Users\\owner\\Documents\\PhD\\TierLab\\VBTA\\MAPF_benchmark_maps\\den001d.map with dimensions 80 x 211\n",
      "Start positions: [(43, 8), (43, 75), (45, 19)]\n",
      "Goal positions: [(8, 101), (38, 15), (36, 123)]\n",
      "TOTAL COST: 260\n",
      "Solution found:\n",
      "Agent 0: [(43, 8), (42, 9), (41, 10), (40, 11), (39, 12), (38, 13), (37, 14), (36, 15), (35, 16), (34, 17), (33, 18), (32, 19), (31, 20), (30, 21), (29, 22), (28, 23), (27, 24), (26, 25), (25, 26), (24, 27), (23, 28), (22, 29), (21, 30), (20, 31), (19, 32), (18, 33), (17, 34), (16, 35), (15, 36), (14, 37), (13, 38), (12, 39), (11, 40), (10, 41), (9, 42), (8, 43), (8, 44), (8, 45), (8, 46), (8, 47), (8, 48), (8, 49), (8, 50), (8, 51), (8, 52), (8, 53), (8, 54), (8, 55), (8, 56), (8, 57), (8, 58), (8, 59), (8, 60), (8, 61), (8, 62), (8, 63), (8, 64), (8, 65), (8, 66), (8, 67), (8, 68), (8, 69), (8, 70), (8, 71), (8, 72), (8, 73), (8, 74), (8, 75), (8, 76), (8, 77), (8, 78), (8, 79), (8, 80), (8, 81), (8, 82), (8, 83), (8, 84), (8, 85), (8, 86), (8, 87), (8, 88), (8, 89), (8, 90), (8, 91), (8, 92), (8, 93), (8, 94), (8, 95), (8, 96), (8, 97), (8, 98), (8, 99), (8, 100), (8, 101)]\n",
      "Agent 1: [(43, 75), (42, 74), (41, 73), (40, 72), (39, 71), (38, 70), (38, 69), (38, 68), (38, 67), (38, 66), (38, 65), (38, 64), (38, 63), (38, 62), (38, 61), (38, 60), (38, 59), (38, 58), (38, 57), (38, 56), (38, 55), (38, 54), (38, 53), (38, 52), (38, 51), (38, 50), (38, 49), (38, 48), (38, 47), (38, 46), (38, 45), (38, 44), (38, 43), (38, 42), (38, 41), (38, 40), (38, 39), (38, 38), (38, 37), (38, 36), (38, 35), (38, 34), (38, 33), (38, 32), (38, 31), (38, 30), (38, 29), (38, 28), (38, 27), (38, 26), (38, 25), (38, 24), (38, 23), (38, 22), (38, 21), (38, 20), (38, 19), (38, 18), (38, 17), (38, 16), (38, 15)]\n",
      "Agent 2: [(45, 19), (44, 20), (43, 21), (42, 22), (41, 23), (40, 24), (39, 25), (38, 26), (37, 27), (36, 28), (36, 29), (36, 30), (36, 31), (36, 32), (36, 33), (36, 34), (36, 35), (36, 36), (36, 37), (36, 38), (36, 39), (36, 40), (36, 41), (36, 42), (36, 43), (36, 44), (36, 45), (36, 46), (36, 47), (36, 48), (36, 49), (36, 50), (36, 51), (36, 52), (36, 53), (36, 54), (36, 55), (36, 56), (36, 57), (36, 58), (36, 59), (36, 60), (36, 61), (36, 62), (36, 63), (36, 64), (36, 65), (36, 66), (36, 67), (36, 68), (36, 69), (36, 70), (36, 71), (36, 72), (36, 73), (36, 74), (36, 75), (36, 76), (36, 77), (36, 78), (36, 79), (36, 80), (36, 81), (36, 82), (36, 83), (36, 84), (36, 85), (36, 86), (36, 87), (36, 88), (36, 89), (36, 90), (36, 91), (36, 92), (36, 93), (36, 94), (36, 95), (36, 96), (36, 97), (36, 98), (36, 99), (36, 100), (36, 101), (36, 102), (36, 103), (36, 104), (36, 105), (36, 106), (36, 107), (36, 108), (36, 109), (36, 110), (36, 111), (36, 112), (36, 113), (36, 114), (36, 115), (36, 116), (36, 117), (36, 118), (36, 119), (36, 120), (36, 121), (36, 122), (36, 123)]\n"
     ]
    }
   ],
   "source": [
    "solution = main()"
   ]
  },
  {
   "cell_type": "code",
   "execution_count": 5,
   "metadata": {},
   "outputs": [
    {
     "name": "stdout",
     "output_type": "stream",
     "text": [
      "260\n"
     ]
    }
   ],
   "source": [
    "# checking the length of the solution\n",
    "path = solution.values()\n",
    "all_values = [item for sublist in path for item in sublist]\n",
    "print(len(all_values))"
   ]
  },
  {
   "cell_type": "code",
   "execution_count": 10,
   "metadata": {},
   "outputs": [
    {
     "name": "stdout",
     "output_type": "stream",
     "text": [
      "Next Step On Path X coordinate: 42\n",
      "Next Step On Path Y coordinate: 9\n"
     ]
    }
   ],
   "source": [
    "print(f\"Next Step On Path X coordinate: {solution[0][1][0]}\")\n",
    "print(f\"Next Step On Path Y coordinate: {solution[0][1][1]}\")"
   ]
  },
  {
   "cell_type": "code",
   "execution_count": 12,
   "metadata": {},
   "outputs": [
    {
     "name": "stdout",
     "output_type": "stream",
     "text": [
      "Next Step On Path X coordinate: 42\n",
      "Next Step On Path Y coordinate: 9\n"
     ]
    }
   ],
   "source": [
    "# removes LAST POSITION (goal position) from path, pop is not good\n",
    "solution[0].pop()\n",
    "print(f\"Next Step On Path X coordinate: {solution[0][1][0]}\")\n",
    "print(f\"Next Step On Path Y coordinate: {solution[0][1][1]}\")"
   ]
  },
  {
   "cell_type": "code",
   "execution_count": 15,
   "metadata": {},
   "outputs": [
    {
     "name": "stdout",
     "output_type": "stream",
     "text": [
      "Next Step On Path X coordinate: 41\n",
      "Next Step On Path Y coordinate: 10\n"
     ]
    }
   ],
   "source": [
    "# pop(0) works for taking current position off list\n",
    "solution[0].pop(0)\n",
    "print(f\"Next Step On Path X coordinate: {solution[0][1][0]}\")\n",
    "print(f\"Next Step On Path Y coordinate: {solution[0][1][1]}\")"
   ]
  },
  {
   "cell_type": "code",
   "execution_count": 18,
   "metadata": {},
   "outputs": [
    {
     "data": {
      "text/plain": [
       "[(42, 9),\n",
       " (41, 10),\n",
       " (40, 11),\n",
       " (39, 12),\n",
       " (38, 13),\n",
       " (37, 14),\n",
       " (36, 15),\n",
       " (35, 16),\n",
       " (34, 17),\n",
       " (33, 18),\n",
       " (32, 19),\n",
       " (31, 20),\n",
       " (30, 21),\n",
       " (29, 22),\n",
       " (28, 23),\n",
       " (27, 24),\n",
       " (26, 25),\n",
       " (25, 26),\n",
       " (24, 27),\n",
       " (23, 28),\n",
       " (22, 29),\n",
       " (21, 30),\n",
       " (20, 31),\n",
       " (19, 32),\n",
       " (18, 33),\n",
       " (17, 34),\n",
       " (16, 35),\n",
       " (15, 36),\n",
       " (14, 37),\n",
       " (13, 38),\n",
       " (12, 39),\n",
       " (11, 40),\n",
       " (10, 41),\n",
       " (9, 42),\n",
       " (8, 43),\n",
       " (8, 44),\n",
       " (8, 45),\n",
       " (8, 46),\n",
       " (8, 47),\n",
       " (8, 48),\n",
       " (8, 49),\n",
       " (8, 50),\n",
       " (8, 51),\n",
       " (8, 52),\n",
       " (8, 53),\n",
       " (8, 54),\n",
       " (8, 55),\n",
       " (8, 56),\n",
       " (8, 57),\n",
       " (8, 58),\n",
       " (8, 59),\n",
       " (8, 60),\n",
       " (8, 61),\n",
       " (8, 62),\n",
       " (8, 63),\n",
       " (8, 64),\n",
       " (8, 65),\n",
       " (8, 66),\n",
       " (8, 67),\n",
       " (8, 68),\n",
       " (8, 69),\n",
       " (8, 70),\n",
       " (8, 71),\n",
       " (8, 72),\n",
       " (8, 73),\n",
       " (8, 74),\n",
       " (8, 75),\n",
       " (8, 76),\n",
       " (8, 77),\n",
       " (8, 78),\n",
       " (8, 79),\n",
       " (8, 80),\n",
       " (8, 81),\n",
       " (8, 82),\n",
       " (8, 83),\n",
       " (8, 84),\n",
       " (8, 85),\n",
       " (8, 86),\n",
       " (8, 87),\n",
       " (8, 88),\n",
       " (8, 89),\n",
       " (8, 90),\n",
       " (8, 91),\n",
       " (8, 92),\n",
       " (8, 93),\n",
       " (8, 94),\n",
       " (8, 95),\n",
       " (8, 96),\n",
       " (8, 97),\n",
       " (8, 98),\n",
       " (8, 99),\n",
       " (8, 100)]"
      ]
     },
     "execution_count": 18,
     "metadata": {},
     "output_type": "execute_result"
    }
   ],
   "source": [
    "solution[0]"
   ]
  },
  {
   "cell_type": "code",
   "execution_count": 19,
   "metadata": {},
   "outputs": [
    {
     "data": {
      "text/plain": [
       "(41, 10)"
      ]
     },
     "execution_count": 19,
     "metadata": {},
     "output_type": "execute_result"
    }
   ],
   "source": [
    "solution[0][1]"
   ]
  },
  {
   "cell_type": "code",
   "execution_count": null,
   "metadata": {},
   "outputs": [],
   "source": []
  }
 ],
 "metadata": {
  "kernelspec": {
   "display_name": ".venv",
   "language": "python",
   "name": "python3"
  },
  "language_info": {
   "codemirror_mode": {
    "name": "ipython",
    "version": 3
   },
   "file_extension": ".py",
   "mimetype": "text/x-python",
   "name": "python",
   "nbconvert_exporter": "python",
   "pygments_lexer": "ipython3",
   "version": "3.12.2"
  }
 },
 "nbformat": 4,
 "nbformat_minor": 2
}
